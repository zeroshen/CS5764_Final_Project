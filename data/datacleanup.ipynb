{
 "cells": [
  {
   "cell_type": "code",
   "execution_count": 8,
   "id": "28057520",
   "metadata": {},
   "outputs": [
    {
     "name": "stdout",
     "output_type": "stream",
     "text": [
      "{'hasn', 'it!', \"isn't\", 'him', 'at', 's', 'here', 'to', 'haven', 'our', 'all', 'she', \"needn't\", \"you'll\", 'themselves', 'again', 'yourself', 'between', 'us', 'is', 'ain', 'i', 'against', 'should', 'can', \"you'd\", 'very', 'once', 'shouldn', 'we', \"you've\", 'their', 'doing', 'after', 'yours', 'this', 'have', 'into', 'was', 'they', 'a', 'further', 'hadn', 'mustn', 'wouldn', 'off', \"shouldn't\", 'ours', '---', 'll', 'what', 'will', \"wasn't\", 'during', 'down', \"didn't\", 'that', \"hasn't\", 'your', \"you're\", 'there', 'yourselves', 'if', '&', 're', 'shan', 'any', 'on', 'before', '!', \"it's\", 'from', 'how', 'through', 'doesn', 'then', 've', 'mightn', 'some', \"don't\", 'those', 'now', 'in', 'wasn', 'are', 'for', \"haven't\", 'an', 'no', 'you', 'had', 'has', 'does', \"shan't\", 'theirs', \"hadn't\", 'herself', \"couldn't\", 'by', 'such', \"she's\", 'am', \"aren't\", 'them', 'didn', 'been', 'which', 'with', 'being', 'its', 'just', 'aren', 'and', 'ourselves', \"i'll\", 'too', 'above', 'each', 'me', 'because', 'were', 'having', 'his', 'couldn', 'than', 'it', 'so', 'under', 'isn', 'who', 'itself', 'the', 'nor', 't', 'm', 'o', 'only', 'needn', 'let', 'be', \"that'll\", 'her', 'most', 'where', 'why', 'don', 'up', 'about', \"won't\", 'while', 'hers', 'not', 'whom', 'he', 'same', \"doesn't\", 'until', 'own', \"wouldn't\", 'as', 'or', 'himself', 'myself', 'y', 'over', 'weren', 'do', 'out', 'my', 'did', 'when', \"mustn't\", 'of', \"weren't\", \"i'm\", 'these', \"mightn't\", 'u', 'ma', 'won', 'below', 'other', \"should've\", 'both', 'few', \"i've\", 'more', 'but', 'd'}\n"
     ]
    },
    {
     "name": "stderr",
     "output_type": "stream",
     "text": [
      "[nltk_data] Downloading package averaged_perceptron_tagger to\n",
      "[nltk_data]     C:\\Users\\admin\\AppData\\Roaming\\nltk_data...\n",
      "[nltk_data]   Package averaged_perceptron_tagger is already up-to-\n",
      "[nltk_data]       date!\n"
     ]
    }
   ],
   "source": [
    "# import\n",
    "import pandas as pd\n",
    "import nltk\n",
    "from nltk.corpus import stopwords\n",
    "from nltk.tokenize import word_tokenize\n",
    "nltk.download('averaged_perceptron_tagger')\n",
    "\n",
    "# reading file\n",
    "df = pd.read_csv(\"word_counts.csv\")\n",
    "\n",
    "# set of stop words\n",
    "stop_words = set(stopwords.words(\"english\"))\n",
    "extraFilterList = [\"i'm\", \"i've\", \"i'll\", \"u\", \"&\", \"it!\", \"!\", \"---\", \"let\", \"us\"]\n",
    "stop_words.update(extraFilterList)\n",
    "print(stop_words)\n",
    "\n",
    "df_filtered = df[~df[\"words\"].isin(stop_words)]\n",
    "\n",
    "df_filtered.to_csv('word_counts_converted.csv', index=False)\n"
   ]
  },
  {
   "cell_type": "code",
   "execution_count": 108,
   "id": "0ccbfbc7",
   "metadata": {},
   "outputs": [
    {
     "name": "stdout",
     "output_type": "stream",
     "text": [
      "Collecting textblob\n",
      "Note: you may need to restart the kernel to use updated packages.  Downloading textblob-0.17.1-py2.py3-none-any.whl (636 kB)\n",
      "Requirement already satisfied: nltk>=3.1 in c:\\programdata\\anaconda3\\lib\\site-packages (from textblob) (3.6.1)\n",
      "Requirement already satisfied: click in c:\\programdata\\anaconda3\\lib\\site-packages (from nltk>=3.1->textblob) (7.1.2)\n",
      "Requirement already satisfied: joblib in c:\\programdata\\anaconda3\\lib\\site-packages (from nltk>=3.1->textblob) (1.0.1)\n",
      "Requirement already satisfied: regex in c:\\programdata\\anaconda3\\lib\\site-packages (from nltk>=3.1->textblob) (2021.4.4)\n",
      "Requirement already satisfied: tqdm in c:\\programdata\\anaconda3\\lib\\site-packages (from nltk>=3.1->textblob) (4.59.0)\n",
      "Installing collected packages: textblob\n",
      "Successfully installed textblob-0.17.1\n",
      "\n"
     ]
    }
   ],
   "source": [
    "pip install textblob "
   ]
  },
  {
   "cell_type": "code",
   "execution_count": null,
   "id": "b694d92e",
   "metadata": {},
   "outputs": [],
   "source": [
    "\n"
   ]
  },
  {
   "cell_type": "code",
   "execution_count": null,
   "id": "d8a6055c",
   "metadata": {},
   "outputs": [],
   "source": []
  }
 ],
 "metadata": {
  "kernelspec": {
   "display_name": "Python 3",
   "language": "python",
   "name": "python3"
  },
  "language_info": {
   "codemirror_mode": {
    "name": "ipython",
    "version": 3
   },
   "file_extension": ".py",
   "mimetype": "text/x-python",
   "name": "python",
   "nbconvert_exporter": "python",
   "pygments_lexer": "ipython3",
   "version": "3.8.8"
  }
 },
 "nbformat": 4,
 "nbformat_minor": 5
}
